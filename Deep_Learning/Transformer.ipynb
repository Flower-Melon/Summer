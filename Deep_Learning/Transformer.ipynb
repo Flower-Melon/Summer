{
 "cells": [
  {
   "cell_type": "markdown",
   "id": "c6a47892",
   "metadata": {},
   "source": [
    "# Transformer\n",
    "* 2017年,Transformer横空出世,至今已经8年时间,仍然没有新的框架可以超越\n",
    "## 1.准备工作\n",
    "### 1.1 机器翻译和数据集"
   ]
  },
  {
   "cell_type": "code",
   "execution_count": 54,
   "id": "897e563f",
   "metadata": {},
   "outputs": [
    {
     "name": "stdout",
     "output_type": "stream",
     "text": [
      "Downloading ./data/fra-eng/fra-eng.zip from http://d2l-data.s3-accelerate.amazonaws.com/fra-eng.zip...\n",
      "Go.\tVa !\n",
      "Hi.\tSalut !\n",
      "Run!\tCours !\n",
      "Run!\tCourez !\n",
      "Who?\tQui ?\n",
      "Wow!\tÇa alors !\n",
      "\n"
     ]
    }
   ],
   "source": [
    "import os\n",
    "import torch\n",
    "from d2l import torch as d2l\n",
    "import zipfile\n",
    "\n",
    "d2l.DATA_HUB['fra-eng'] = (d2l.DATA_URL + 'fra-eng.zip',\n",
    "                           '94646ad1522d915e7b0f9296181140edcf86a4f5')\n",
    "\n",
    "def read_data_nmt():\n",
    "    \"\"\"载入\"英语-法语\"数据集\"\"\"\n",
    "    # 指定下载目录为当前目录下的data/fra-eng文件夹\n",
    "    download_dir = './data/fra-eng/'\n",
    "    \n",
    "    # 确保下载目录存在\n",
    "    os.makedirs(download_dir, exist_ok=True)\n",
    "    \n",
    "    # 下载ZIP文件\n",
    "    zip_path = d2l.download('fra-eng', cache_dir=download_dir)\n",
    "    \n",
    "    # 解压文件到当前下载目录\n",
    "    with zipfile.ZipFile(zip_path, 'r') as zip_ref:\n",
    "        zip_ref.extractall(download_dir)\n",
    "    \n",
    "    # 正确路径应该是下载目录中的fra.txt\n",
    "    data_file = os.path.join(download_dir, 'fra-eng/fra.txt')\n",
    "    \n",
    "    # 读取数据文件   \n",
    "    with open(data_file, 'r', encoding='utf-8') as f:\n",
    "        return f.read()\n",
    "\n",
    "text = read_data_nmt()\n",
    "print(text[:75])"
   ]
  },
  {
   "cell_type": "markdown",
   "id": "434b7626",
   "metadata": {},
   "source": [
    "* 数据集预处理"
   ]
  },
  {
   "cell_type": "code",
   "execution_count": 56,
   "id": "e43748f8",
   "metadata": {},
   "outputs": [
    {
     "name": "stdout",
     "output_type": "stream",
     "text": [
      "go .\tva !\n",
      "hi .\tsalut !\n",
      "run !\tcours !\n",
      "run !\tcourez !\n",
      "who ?\tqui ?\n",
      "wow !\tça alors !\n"
     ]
    }
   ],
   "source": [
    "def preprocess_nmt(text):\n",
    "    \"\"\"预处理“英语－法语”数据集\"\"\"\n",
    "    def no_space(char, prev_char):\n",
    "        return char in set(',.!?') and prev_char != ' '\n",
    "\n",
    "    # 使用空格替换不间断空格\n",
    "    # 使用小写字母替换大写字母\n",
    "    text = text.replace('\\u202f', ' ').replace('\\xa0', ' ').lower()\n",
    "    # 在单词和标点符号之间插入空格\n",
    "    out = [' ' + char if i > 0 and no_space(char, text[i - 1]) else char\n",
    "           for i, char in enumerate(text)]\n",
    "    return ''.join(out)\n",
    "\n",
    "text = preprocess_nmt(text)\n",
    "print(text[:80])"
   ]
  },
  {
   "cell_type": "markdown",
   "id": "5d608a6b",
   "metadata": {},
   "source": [
    "* 词元化"
   ]
  },
  {
   "cell_type": "markdown",
   "id": "8e6f885b",
   "metadata": {},
   "source": [
    "这里使用单词级词元化而非字符级词元化"
   ]
  },
  {
   "cell_type": "code",
   "execution_count": 57,
   "id": "92bfe4c6",
   "metadata": {},
   "outputs": [
    {
     "data": {
      "text/plain": [
       "([['go', '.'],\n",
       "  ['hi', '.'],\n",
       "  ['run', '!'],\n",
       "  ['run', '!'],\n",
       "  ['who', '?'],\n",
       "  ['wow', '!']],\n",
       " [['va', '!'],\n",
       "  ['salut', '!'],\n",
       "  ['cours', '!'],\n",
       "  ['courez', '!'],\n",
       "  ['qui', '?'],\n",
       "  ['ça', 'alors', '!']])"
      ]
     },
     "execution_count": 57,
     "metadata": {},
     "output_type": "execute_result"
    }
   ],
   "source": [
    "#@save\n",
    "def tokenize_nmt(text, num_examples=None):\n",
    "    \"\"\"词元化“英语－法语”数据数据集\"\"\"\n",
    "    source, target = [], []\n",
    "    for i, line in enumerate(text.split('\\n')):\n",
    "        if num_examples and i > num_examples:\n",
    "            break\n",
    "        parts = line.split('\\t')\n",
    "        if len(parts) == 2:\n",
    "            source.append(parts[0].split(' '))\n",
    "            target.append(parts[1].split(' '))\n",
    "    return source, target\n",
    "\n",
    "source, target = tokenize_nmt(text)\n",
    "source[:6], target[:6]"
   ]
  },
  {
   "cell_type": "markdown",
   "id": "9350095e",
   "metadata": {},
   "source": [
    "* 创建词表"
   ]
  },
  {
   "cell_type": "code",
   "execution_count": 58,
   "id": "8504cbb0",
   "metadata": {},
   "outputs": [
    {
     "data": {
      "text/plain": [
       "10012"
      ]
     },
     "execution_count": 58,
     "metadata": {},
     "output_type": "execute_result"
    }
   ],
   "source": [
    "src_vocab = d2l.Vocab(source, min_freq=2,\n",
    "                      reserved_tokens=['<pad>', '<bos>', '<eos>'])\n",
    "len(src_vocab)"
   ]
  },
  {
   "cell_type": "markdown",
   "id": "9f87c9e6",
   "metadata": {},
   "source": [
    "* 截断和填充限制大小"
   ]
  },
  {
   "cell_type": "markdown",
   "id": "621f020e",
   "metadata": {},
   "source": [
    "语言预测模型中，序列样本有固定的长度，由num_steps决定，对于不同文本序列长度的数据，使用截断和填充"
   ]
  },
  {
   "cell_type": "code",
   "execution_count": 62,
   "id": "5826940b",
   "metadata": {},
   "outputs": [
    {
     "name": "stdout",
     "output_type": "stream",
     "text": [
      "['go', '.', ['<pad>'], ['<pad>'], ['<pad>'], ['<pad>'], ['<pad>'], ['<pad>'], ['<pad>'], ['<pad>']]\n"
     ]
    },
    {
     "data": {
      "text/plain": [
       "[47, 4, 1, 1, 1, 1, 1, 1, 1, 1]"
      ]
     },
     "execution_count": 62,
     "metadata": {},
     "output_type": "execute_result"
    }
   ],
   "source": [
    "def truncate_pad(line, num_steps, padding_token):\n",
    "    \"\"\"截断或填充文本序列\"\"\"\n",
    "    if len(line) > num_steps:\n",
    "        return line[:num_steps]  # 截断\n",
    "    return line + [padding_token] * (num_steps - len(line))  # 填充\n",
    "\n",
    "print(truncate_pad(source[0], 10, ['<pad>']))\n",
    "truncate_pad(src_vocab[source[0]], 10, src_vocab['<pad>'])"
   ]
  },
  {
   "cell_type": "markdown",
   "id": "2f26adbd",
   "metadata": {},
   "source": [
    "* 将文本序列转换成小批量数据集"
   ]
  },
  {
   "cell_type": "code",
   "execution_count": 70,
   "id": "44a6d985",
   "metadata": {},
   "outputs": [],
   "source": [
    "def build_array_nmt(lines, vocab, num_steps):\n",
    "    \"\"\"将机器翻译的文本序列转换成小批量\"\"\"\n",
    "    lines = [vocab[l] for l in lines]\n",
    "    lines = [l + [vocab['<eos>']] for l in lines]\n",
    "    array = torch.tensor([truncate_pad(\n",
    "        l, num_steps, vocab['<pad>']) for l in lines])\n",
    "    valid_len = (array != vocab['<pad>']).type(torch.int32).sum(1)\n",
    "    return array, valid_len"
   ]
  },
  {
   "cell_type": "markdown",
   "id": "4ee1fe9d",
   "metadata": {},
   "source": [
    "* 整合上述功能返回数据迭代器"
   ]
  },
  {
   "cell_type": "code",
   "execution_count": 72,
   "id": "04bd3dd3",
   "metadata": {},
   "outputs": [],
   "source": [
    "#@save\n",
    "def load_data_nmt(batch_size, num_steps, num_examples=600):\n",
    "    \"\"\"返回翻译数据集的迭代器和词表\"\"\"\n",
    "    text = preprocess_nmt(read_data_nmt())\n",
    "    source, target = tokenize_nmt(text, num_examples)\n",
    "    src_vocab = d2l.Vocab(source, min_freq=2,\n",
    "                          reserved_tokens=['<pad>', '<bos>', '<eos>'])\n",
    "    tgt_vocab = d2l.Vocab(target, min_freq=2,\n",
    "                          reserved_tokens=['<pad>', '<bos>', '<eos>'])\n",
    "    src_array, src_valid_len = build_array_nmt(source, src_vocab, num_steps)\n",
    "    tgt_array, tgt_valid_len = build_array_nmt(target, tgt_vocab, num_steps)\n",
    "    data_arrays = (src_array, src_valid_len, tgt_array, tgt_valid_len)\n",
    "    data_iter = d2l.load_array(data_arrays, batch_size)\n",
    "    return data_iter, src_vocab, tgt_vocab"
   ]
  },
  {
   "cell_type": "code",
   "execution_count": 75,
   "id": "4316f0d9",
   "metadata": {},
   "outputs": [
    {
     "name": "stdout",
     "output_type": "stream",
     "text": [
      "X: tensor([[ 6, 50,  8,  4,  3,  1,  1,  1],\n",
      "        [83, 15,  4,  3,  1,  1,  1,  1]], dtype=torch.int32)\n",
      "X的有效长度: tensor([5, 4])\n",
      "Y: tensor([[6, 0, 4, 3, 1, 1, 1, 1],\n",
      "        [0, 5, 3, 1, 1, 1, 1, 1]], dtype=torch.int32)\n",
      "Y的有效长度: tensor([4, 3])\n"
     ]
    }
   ],
   "source": [
    "train_iter, src_vocab, tgt_vocab = load_data_nmt(batch_size=2, num_steps=8)\n",
    "for X, X_valid_len, Y, Y_valid_len in train_iter:\n",
    "    print('X:', X.type(torch.int32))\n",
    "    print('X的有效长度:', X_valid_len)\n",
    "    print('Y:', Y.type(torch.int32))\n",
    "    print('Y的有效长度:', Y_valid_len)\n",
    "    break"
   ]
  },
  {
   "cell_type": "markdown",
   "id": "6e2386ff",
   "metadata": {},
   "source": [
    "### 1.2 编码器和解码器"
   ]
  },
  {
   "cell_type": "markdown",
   "id": "11b8792a",
   "metadata": {},
   "source": [
    "* 编码器"
   ]
  },
  {
   "cell_type": "code",
   "execution_count": null,
   "id": "c8e46b0d",
   "metadata": {},
   "outputs": [],
   "source": [
    "from torch import nn\n",
    "\n",
    "class Encoder(nn.Module):\n",
    "    \"\"\"编码器\"\"\"\n",
    "    def __init__(self):\n",
    "        super(Encoder, self).__init__()\n",
    "        # 这里可以添加编码器的具体实现\n",
    "    def forward(self, X, *args):\n",
    "        # 这里可以添加前向传播的具体实现\n",
    "        raise NotImplementedError(\"Encoder forward method not implemented\")"
   ]
  },
  {
   "cell_type": "markdown",
   "id": "ae0df261",
   "metadata": {},
   "source": [
    "* 解码器"
   ]
  },
  {
   "cell_type": "code",
   "execution_count": null,
   "id": "d170c27e",
   "metadata": {},
   "outputs": [],
   "source": [
    "class Decoder(nn.Module):\n",
    "    \"\"\"解码器\"\"\"\n",
    "    def __init__(self):\n",
    "        super(Decoder, self).__init__()\n",
    "        # 这里可以添加解码器的具体实现\n",
    "    def init__state(self, enc_outputs,*args):\n",
    "        \"\"\"初始化解码器状态\"\"\"\n",
    "        # 这里可以添加解码器状态初始化的具体实现\n",
    "        raise NotImplementedError(\"Decoder state initialization not implemented\")\n",
    "    def forward(self, X, *args):\n",
    "        # 这里可以添加前向传播的具体实现\n",
    "        raise NotImplementedError(\"Decoder forward method not implemented\")"
   ]
  },
  {
   "cell_type": "markdown",
   "id": "6c948d9f",
   "metadata": {},
   "source": [
    "* 合并编码器和解码器"
   ]
  },
  {
   "cell_type": "code",
   "execution_count": 139,
   "id": "a17eee33",
   "metadata": {},
   "outputs": [],
   "source": [
    "class EncoderDecoder(nn.Module):\n",
    "    \"\"\"编码器-解码器\"\"\"\n",
    "    def __init__(self, encoder, decoder):\n",
    "        super(EncoderDecoder, self).__init__()\n",
    "        self.encoder = encoder\n",
    "        self.decoder = decoder\n",
    "\n",
    "    def forward(self, enc_X, dec_X):\n",
    "        enc_outputs = self.encoder(enc_X)\n",
    "        dec_state = self.decoder.init_state(enc_outputs)\n",
    "        return self.decoder(dec_X, dec_state)"
   ]
  },
  {
   "cell_type": "markdown",
   "id": "75826403",
   "metadata": {},
   "source": [
    "### 1.3 序列到序列学习"
   ]
  },
  {
   "cell_type": "code",
   "execution_count": 150,
   "id": "e122b4fe",
   "metadata": {},
   "outputs": [],
   "source": [
    "import collections\n",
    "import math\n",
    "import torch as T\n",
    "from torch import nn\n",
    "from d2l import torch as d2l\n",
    "from matplotlib import pyplot as plt"
   ]
  },
  {
   "cell_type": "markdown",
   "id": "56a785a2",
   "metadata": {},
   "source": [
    "* 编码器"
   ]
  },
  {
   "cell_type": "markdown",
   "id": "33b97970",
   "metadata": {},
   "source": [
    "这里的嵌入层的作用是对输入的序列数据进行编码\n",
    "\n",
    "我们在前面使用独热向量进行编码，但在这个任务中，语料库的长度达到了10万，独热向量的长度为10万，对应的RNN输入层的参数是100000 * num_hiddens，这显然是不可接受的。\n",
    "\n",
    "embedding嵌入层使用一个vocab_size * embed_size的随机矩阵进行降维，控制输入参数到embed_size上"
   ]
  },
  {
   "cell_type": "code",
   "execution_count": 79,
   "id": "c05be0b8",
   "metadata": {},
   "outputs": [],
   "source": [
    "class Seq2SeqEncoder(nn.Module):\n",
    "    \"\"\"序列到序列编码器\"\"\"\n",
    "    def __init__(self, vocab_size, embed_size, num_hiddens, num_layers,\n",
    "                 dropout=0.0):\n",
    "        super(Seq2SeqEncoder, self).__init__()\n",
    "        self.embedding = nn.Embedding(vocab_size, embed_size)\n",
    "        self.rnn = nn.GRU(embed_size, num_hiddens, num_layers,\n",
    "                           dropout=dropout)\n",
    "\n",
    "    def forward(self, X):\n",
    "        X = self.embedding(X)\n",
    "        X = X.permute(1, 0, 2)  # 转换为 (时间步, 批量大小, 嵌入维度)\n",
    "        output, state = self.rnn(X)\n",
    "        return output, state"
   ]
  },
  {
   "cell_type": "code",
   "execution_count": 132,
   "id": "cea2bd6c",
   "metadata": {},
   "outputs": [
    {
     "name": "stdout",
     "output_type": "stream",
     "text": [
      "嵌入层随机矩阵的大小： torch.Size([10, 8])\n",
      "输出向量大小： torch.Size([7, 4, 16])\n",
      "状态向量大小： torch.Size([2, 4, 16])\n"
     ]
    }
   ],
   "source": [
    "encoder = Seq2SeqEncoder(vocab_size=10, embed_size=8, num_hiddens=16,\n",
    "                         num_layers=2)\n",
    "print(\"嵌入层随机矩阵的大小：\",encoder.embedding.weight.shape)  # 查看嵌入层的权重形状\n",
    "encoder.eval()\n",
    "X = torch.zeros((4, 7), dtype=torch.long)\n",
    "output, state = encoder(X)\n",
    "print(\"输出向量大小：\",output.shape) # 对应批量大小，时间步为4，隐藏层大小为16\n",
    "print(\"状态向量大小：\",state.shape) # 对应层数为2，"
   ]
  },
  {
   "cell_type": "markdown",
   "id": "72afcc16",
   "metadata": {},
   "source": [
    "* 解码器"
   ]
  },
  {
   "cell_type": "markdown",
   "id": "a1fcfa19",
   "metadata": {},
   "source": [
    "解码器的RNN输入是编码器输出的隐状态（num_layers * batch_size * num_hiddens）增广后变为的（时间步 * batch_size * num_hiddens）\n",
    "\n",
    "与输入的目标的embedding编码后的(时间步 * batch_size * embed_size)拼接\n",
    "\n",
    "输入为(时间步 * batch_size * (embed_size + num_hiddens))\n",
    "\n",
    "这里有个译文是编码器和解码器采用一套num_hiddens参数"
   ]
  },
  {
   "cell_type": "code",
   "execution_count": 136,
   "id": "123f2fa9",
   "metadata": {},
   "outputs": [],
   "source": [
    "class Seq2SeqDecoder(nn.Module):\n",
    "    \"\"\"序列到序列解码器\"\"\"\n",
    "    def __init__(self, vocab_size, embed_size, num_hiddens, num_layers,\n",
    "                 dropout=0.0):\n",
    "        super(Seq2SeqDecoder, self).__init__()\n",
    "        self.embedding = nn.Embedding(vocab_size, embed_size)\n",
    "        self.rnn = nn.GRU(embed_size + num_hiddens, num_hiddens, num_layers,\n",
    "                           dropout=dropout)\n",
    "        self.dense = nn.Linear(num_hiddens, vocab_size)\n",
    "\n",
    "    def init_state(self, enc_outputs):\n",
    "        return enc_outputs[1]  # 返回编码器的最后一个状态\n",
    "\n",
    "    def forward(self, X, state):\n",
    "        X = self.embedding(X)\n",
    "        X = X.permute(1, 0, 2)  # 转换为 (时间步, 批量大小, 嵌入维度)\n",
    "        context = state[-1].repeat(X.shape[0], 1, 1)  # 扩展上下文向量\n",
    "        X = T.cat((X, context), dim=2)  # 拼接上下\n",
    "        output, state = self.rnn(X, state)\n",
    "        output = self.dense(output)\n",
    "        output = output.permute(1, 0, 2)\n",
    "        # output的形状为 (批量大小, 时间步, 词汇表大小)\n",
    "        # state的形状为 (num_layers, batch_size, num_hiddens)\n",
    "        return output, state"
   ]
  },
  {
   "cell_type": "code",
   "execution_count": 137,
   "id": "5c0a5334",
   "metadata": {},
   "outputs": [
    {
     "data": {
      "text/plain": [
       "(torch.Size([4, 7, 10]), torch.Size([2, 4, 16]))"
      ]
     },
     "execution_count": 137,
     "metadata": {},
     "output_type": "execute_result"
    }
   ],
   "source": [
    "decoder = Seq2SeqDecoder(vocab_size=10, embed_size=8, num_hiddens=16,\n",
    "                         num_layers=2)\n",
    "decoder.eval()\n",
    "state = decoder.init_state(encoder(X))\n",
    "output, state = decoder(X, state)\n",
    "output.shape, state.shape"
   ]
  },
  {
   "cell_type": "markdown",
   "id": "5380731f",
   "metadata": {},
   "source": [
    "* 损失函数"
   ]
  },
  {
   "cell_type": "code",
   "execution_count": 138,
   "id": "48adabe3",
   "metadata": {},
   "outputs": [],
   "source": [
    "def sequence_mask(X, valid_len, value=0):\n",
    "    \"\"\"在序列中屏蔽不相关的项\"\"\"\n",
    "    maxlen = X.size(1)\n",
    "    mask = torch.arange((maxlen), dtype=torch.float32,\n",
    "                        device=X.device)[None, :] < valid_len[:, None]\n",
    "    X[~mask] = value\n",
    "    return X"
   ]
  },
  {
   "cell_type": "code",
   "execution_count": 159,
   "id": "864bd9d2",
   "metadata": {},
   "outputs": [],
   "source": [
    "class MaskedSoftmaxCELoss(nn.CrossEntropyLoss):\n",
    "    \"\"\"带遮蔽的softmax交叉熵损失函数\"\"\"\n",
    "    # pred的形状：(batch_size,num_steps,vocab_size)\n",
    "    # label的形状：(batch_size,num_steps)\n",
    "    # valid_len的形状：(batch_size,)\n",
    "    def forward(self, pred, label, valid_len):\n",
    "        weights = torch.ones_like(label)\n",
    "        weights = sequence_mask(weights, valid_len)\n",
    "        \n",
    "        # 设置为非聚合，方便后续舍弃没用的损失\n",
    "        self.reduction='none'\n",
    "        \n",
    "        # permute(0, 2, 1) 将 pred 的维度重排为 (batch_size, vocab_size, num_steps)\n",
    "        # label的形状为 (batch_size, num_steps)\n",
    "        unweighted_loss = super(MaskedSoftmaxCELoss, self).forward(\n",
    "            pred.permute(0, 2, 1), label)\n",
    "        # unweighted_loss 的形状为 (batch_size, num_steps)，\n",
    "        weighted_loss = (unweighted_loss * weights).mean(dim=1)\n",
    "        # 返回的 weighted_loss 的形状为 (batch_size,)\n",
    "        return weighted_loss\n"
   ]
  },
  {
   "cell_type": "markdown",
   "id": "f8f919d0",
   "metadata": {},
   "source": [
    "* 训练"
   ]
  },
  {
   "cell_type": "code",
   "execution_count": 192,
   "id": "1787b9a2",
   "metadata": {},
   "outputs": [],
   "source": [
    "def train_seq2seq(net,data_dir,lr,num_epochs,tgt_vocab,device):\n",
    "    \"\"\"训练序列到序列模型\"\"\"\n",
    "    # 这里可以添加训练代码\n",
    "    # net: 序列到序列模型\n",
    "    # data_dir: 数据目录\n",
    "    # lr: 学习率\n",
    "    # num_epochs: 训练轮数\n",
    "    # tgt_vocab: 目标词汇表\n",
    "    # device: 设备（CPU或GPU）\n",
    "    def xavier_init_weights(m):\n",
    "        if isinstance(m, nn.Linear):\n",
    "            nn.init.xavier_uniform_(m.weight)\n",
    "            if m.bias is not None:\n",
    "                nn.init.zeros_(m.bias)  # 偏置初始化为零\n",
    "        elif isinstance(m, nn.GRU):\n",
    "            for param in m._flat_weights_names:\n",
    "                if \"weight\" in param:\n",
    "                    nn.init.xavier_uniform_(m._parameters[param])\n",
    "                elif \"bias\" in param:\n",
    "                    nn.init.zeros_(m._parameters[param])  # 偏置初始化为零\n",
    "                    \n",
    "    net.apply(xavier_init_weights)  # 初始化权重\n",
    "    net.to(device)  # 将模型移动到指定设备\n",
    "    optimizer = torch.optim.Adam(net.parameters(), lr=lr)  # 优化器\n",
    "    loss = MaskedSoftmaxCELoss()  # 损失函数\n",
    "    epoch_losses = []    # 存放每个 epoch 的 loss\n",
    "    \n",
    "    net.train()  # 设置模型为训练模式\n",
    "    epoch_losses = []  # 用于记录每个 epoch 的损失\n",
    "\n",
    "    for epoch in range(num_epochs):\n",
    "        total_loss = 0  # 初始化每个 epoch 的总损失\n",
    "        num_batches = 0  # 记录当前 epoch 的批次数\n",
    "\n",
    "        for batch in data_dir:\n",
    "            optimizer.zero_grad()\n",
    "            \n",
    "            # 获取批量数据并将其移动到指定设备\n",
    "            X, _, Y, Y_valid_len = [x.to(device) for x in batch]\n",
    "            bos = torch.tensor([tgt_vocab['<bos>']] * Y.shape[0], \n",
    "                            device=device).reshape(-1, 1)\n",
    "            dec_X = torch.cat((bos, Y[:, :-1]), dim=1)\n",
    "            \n",
    "            Y_hat, _ = net(X, dec_X)\n",
    "            l = loss(Y_hat, Y, Y_valid_len)\n",
    "            l.sum().backward()\n",
    "            d2l.grad_clipping(net, 1)\n",
    "            optimizer.step()\n",
    "            \n",
    "            # 累加损失\n",
    "            total_loss += l.sum().item()  # 使用 .item() 获取标量值\n",
    "            num_batches += Y_valid_len.sum().item()  # 增加批次数\n",
    "\n",
    "        # 计算当前 epoch 的平均损失\n",
    "        average_loss = total_loss / num_batches\n",
    "        epoch_losses.append(average_loss)\n",
    "\n",
    "        # 每 20 个 epoch 打印一次损失\n",
    "        if (epoch + 1) % 50 == 0:\n",
    "            print(\"epoch:\", epoch + 1, \"loss:\", average_loss)\n",
    "         # 训练完毕后画图\n",
    "    plt.figure(figsize=(6,4))\n",
    "    plt.plot(range(1, num_epochs+1), epoch_losses, marker='o')\n",
    "    plt.xlabel(\"Epoch\")\n",
    "    plt.ylabel(\"Loss\")\n",
    "    plt.title(\"Training Loss Curve\")\n",
    "    plt.grid(True)\n",
    "    plt.show()"
   ]
  },
  {
   "cell_type": "code",
   "execution_count": 196,
   "id": "f163758f",
   "metadata": {},
   "outputs": [
    {
     "name": "stdout",
     "output_type": "stream",
     "text": [
      "epoch: 50 loss: 0.08070873604286191\n",
      "epoch: 100 loss: 0.036847681663300005\n",
      "epoch: 150 loss: 0.024980207354663067\n",
      "epoch: 200 loss: 0.021126659776882033\n",
      "epoch: 250 loss: 0.020132901770821804\n",
      "epoch: 300 loss: 0.01893672169967225\n",
      "epoch: 350 loss: 0.019023231613687623\n",
      "epoch: 400 loss: 0.018418083881496773\n",
      "epoch: 450 loss: 0.01868442455083073\n",
      "epoch: 500 loss: 0.018236994602604206\n"
     ]
    },
    {
     "data": {
      "image/png": "[encoded data removed]",
      "text/plain": [
       "<Figure size 600x400 with 1 Axes>"
      ]
     },
     "metadata": {},
     "output_type": "display_data"
    }
   ],
   "source": [
    "embed_size, num_hiddens, num_layers, dropout = 32, 32, 2, 0.1\n",
    "batch_size, num_steps = 64, 10\n",
    "lr, num_epochs, device = 0.005, 500, d2l.try_gpu()\n",
    "\n",
    "train_iter, src_vocab, tgt_vocab = load_data_nmt(batch_size, num_steps)\n",
    "encoder = Seq2SeqEncoder(len(src_vocab), embed_size, num_hiddens, num_layers,\n",
    "                        dropout)\n",
    "decoder = Seq2SeqDecoder(len(tgt_vocab), embed_size, num_hiddens, num_layers,\n",
    "                        dropout)\n",
    "net = d2l.EncoderDecoder(encoder, decoder)\n",
    "train_seq2seq(net, train_iter, lr, num_epochs, tgt_vocab, device)"
   ]
  },
  {
   "cell_type": "markdown",
   "id": "e489a640",
   "metadata": {},
   "source": [
    "* 预测"
   ]
  },
  {
   "cell_type": "code",
   "execution_count": 183,
   "id": "1ca20773",
   "metadata": {},
   "outputs": [],
   "source": [
    "#@save\n",
    "def predict_seq2seq(net, src_sentence, src_vocab, tgt_vocab, num_steps,device):\n",
    "    \"\"\"序列到序列模型的预测\"\"\"\n",
    "    # 在预测时将net设置为评估模式\n",
    "    net.eval()\n",
    "    src_tokens = src_vocab[src_sentence.lower().split(' ')] + [\n",
    "        src_vocab['<eos>']]\n",
    "    enc_valid_len = torch.tensor([len(src_tokens)], device=device)\n",
    "    src_tokens = d2l.truncate_pad(src_tokens, num_steps, src_vocab['<pad>'])\n",
    "    \n",
    "    # 增广，满足编码器的输入要求（批量大小为1）\n",
    "    enc_X = torch.unsqueeze(\n",
    "        torch.tensor(src_tokens, dtype=torch.long, device=device), dim=0)\n",
    "    enc_outputs = net.encoder(enc_X)\n",
    "    dec_state = net.decoder.init_state(enc_outputs)\n",
    "    \n",
    "    # 添加批量轴，以<bos>作为解码器的初始输入\n",
    "    dec_X = torch.unsqueeze(torch.tensor(\n",
    "        [tgt_vocab['<bos>']], dtype=torch.long, device=device), dim=0)\n",
    "    \n",
    "    output_seq = []\n",
    "    \n",
    "    for _ in range(num_steps):\n",
    "        Y, dec_state = net.decoder(dec_X, dec_state)\n",
    "        # 我们使用具有预测最高可能性的词元，作为解码器在下一时间步的输入\n",
    "        dec_X = Y.argmax(dim=2)\n",
    "        pred = dec_X.squeeze(dim=0).type(torch.int32).item()\n",
    "        # 一旦序列结束词元被预测，输出序列的生成就完成了\n",
    "        if pred == tgt_vocab['<eos>']:\n",
    "            break\n",
    "        output_seq.append(pred)\n",
    "        \n",
    "    return ' '.join(tgt_vocab.to_tokens(output_seq))"
   ]
  },
  {
   "cell_type": "code",
   "execution_count": 181,
   "id": "f3f0aec9",
   "metadata": {},
   "outputs": [],
   "source": [
    "def bleu(pred_seq, label_seq, k):  #@save\n",
    "    \"\"\"计算BLEU\"\"\"\n",
    "    pred_tokens, label_tokens = pred_seq.split(' '), label_seq.split(' ')\n",
    "    len_pred, len_label = len(pred_tokens), len(label_tokens)\n",
    "    score = math.exp(min(0, 1 - len_label / len_pred))\n",
    "    for n in range(1, k + 1):\n",
    "        num_matches, label_subs = 0, collections.defaultdict(int)\n",
    "        for i in range(len_label - n + 1):\n",
    "            label_subs[' '.join(label_tokens[i: i + n])] += 1\n",
    "        for i in range(len_pred - n + 1):\n",
    "            if label_subs[' '.join(pred_tokens[i: i + n])] > 0:\n",
    "                num_matches += 1\n",
    "                label_subs[' '.join(pred_tokens[i: i + n])] -= 1\n",
    "        score *= math.pow(num_matches / (len_pred - n + 1), math.pow(0.5, n))\n",
    "    return score"
   ]
  },
  {
   "cell_type": "code",
   "execution_count": 197,
   "id": "3dcc4647",
   "metadata": {},
   "outputs": [
    {
     "name": "stdout",
     "output_type": "stream",
     "text": [
      "go . => va !, bleu 1.000\n",
      "i lost . => j'ai perdu ., bleu 1.000\n",
      "he's calm . => soyez gentil !, bleu 0.000\n",
      "i'm home . => je suis chez <unk> ., bleu 0.752\n"
     ]
    }
   ],
   "source": [
    "engs = ['go .', \"i lost .\", 'he\\'s calm .', 'i\\'m home .']\n",
    "fras = ['va !', 'j\\'ai perdu .', 'il est calme .', 'je suis chez moi .']\n",
    "for eng, fra in zip(engs, fras):\n",
    "    translation = predict_seq2seq(net, eng, src_vocab, tgt_vocab, num_steps, device)\n",
    "    print(f'{eng} => {translation}, bleu {bleu(translation, fra, k=2):.3f}')"
   ]
  },
  {
   "cell_type": "markdown",
   "id": "08ad31db",
   "metadata": {},
   "source": [
    "## 2.注意力机制"
   ]
  },
  {
   "cell_type": "markdown",
   "id": "2f4692f3",
   "metadata": {},
   "source": [
    "## 3.Transformer"
   ]
  }
 ],
 "metadata": {
  "kernelspec": {
   "display_name": "d2l",
   "language": "python",
   "name": "python3"
  },
  "language_info": {
   "codemirror_mode": {
    "name": "ipython",
    "version": 3
   },
   "file_extension": ".py",
   "mimetype": "text/x-python",
   "name": "python",
   "nbconvert_exporter": "python",
   "pygments_lexer": "ipython3",
   "version": "3.9.23"
  }
 },
 "nbformat": 4,
 "nbformat_minor": 5
}

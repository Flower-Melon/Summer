{
 "cells": [
  {
   "cell_type": "markdown",
   "id": "c6a47892",
   "metadata": {},
   "source": [
    "# Transformer\n",
    "* 2017年,Transformer横空出世,至今已经8年时间,仍然没有新的框架可以超越\n",
    "## 1.准备工作\n",
    "* 机器翻译和数据集"
   ]
  }
 ],
 "metadata": {
  "language_info": {
   "name": "python"
  }
 },
 "nbformat": 4,
 "nbformat_minor": 5
}
